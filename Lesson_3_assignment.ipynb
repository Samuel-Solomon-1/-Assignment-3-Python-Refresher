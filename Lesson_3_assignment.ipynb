{
  "nbformat": 4,
  "nbformat_minor": 0,
  "metadata": {
    "colab": {
      "provenance": [],
      "include_colab_link": true
    },
    "kernelspec": {
      "name": "python3",
      "display_name": "Python 3"
    },
    "language_info": {
      "name": "python"
    }
  },
  "cells": [
    {
      "cell_type": "markdown",
      "metadata": {
        "id": "view-in-github",
        "colab_type": "text"
      },
      "source": [
        "<a href=\"https://colab.research.google.com/github/Samuel-Solomon-1/-Assignment-3-Python-Refresher/blob/main/Lesson_3_assignment.ipynb\" target=\"_parent\"><img src=\"https://colab.research.google.com/assets/colab-badge.svg\" alt=\"Open In Colab\"/></a>"
      ]
    },
    {
      "cell_type": "markdown",
      "source": [
        "#### **ATTENTION!!!**\n",
        "- **Place each section (1,2...) in one or more cells to keep the notebook organised**\n",
        "- **Complete the codes in the `TODO` sections**"
      ],
      "metadata": {
        "id": "kKCIlfklSrTw"
      }
    },
    {
      "cell_type": "code",
      "execution_count": 1,
      "metadata": {
        "id": "dnmV0gINSR23",
        "colab": {
          "base_uri": "https://localhost:8080/",
          "height": 0
        },
        "outputId": "b0945fdf-c330-42f7-d12e-5670b95a02f0"
      },
      "outputs": [
        {
          "output_type": "stream",
          "name": "stdout",
          "text": [
            "Requirement already satisfied: requests in /usr/local/lib/python3.11/dist-packages (2.32.3)\n",
            "Requirement already satisfied: charset-normalizer<4,>=2 in /usr/local/lib/python3.11/dist-packages (from requests) (3.4.2)\n",
            "Requirement already satisfied: idna<4,>=2.5 in /usr/local/lib/python3.11/dist-packages (from requests) (3.10)\n",
            "Requirement already satisfied: urllib3<3,>=1.21.1 in /usr/local/lib/python3.11/dist-packages (from requests) (2.4.0)\n",
            "Requirement already satisfied: certifi>=2017.4.17 in /usr/local/lib/python3.11/dist-packages (from requests) (2025.4.26)\n",
            "Book: Python Programming, Quantity: 5, Price: $29.99, Available: True\n"
          ]
        }
      ],
      "source": [
        "# Python Library Management System\n",
        "\n",
        "# Install required libraries (This should already exist in colab)\n",
        "!pip install requests\n",
        "\n",
        "import pickle\n",
        "import sqlite3\n",
        "import requests\n",
        "\n",
        "# 1. Data Types and Variables\n",
        "book_title = \"Python Programming\"\n",
        "book_quantity = 5\n",
        "book_price = 29.99\n",
        "is_available = True\n",
        "\n",
        "print(f\"Book: {book_title}, Quantity: {book_quantity}, Price: ${book_price}, Available: {is_available}\")"
      ]
    },
    {
      "cell_type": "code",
      "source": [
        "# 2. Lists\n",
        "books = [\"Python Basics\", \"Advanced Python\", \"Data Science with Python\"]\n",
        "\n",
        "books.append(\"Machine Learning with Python\")\n",
        "books.insert(0, \"Intro to Programming\")\n",
        "\n",
        "print(\"Updated book list:\", books)"
      ],
      "metadata": {
        "colab": {
          "base_uri": "https://localhost:8080/",
          "height": 0
        },
        "id": "gpc2n4WAYGVR",
        "outputId": "482f6278-006b-47b0-d331-c55bff95c4e0"
      },
      "execution_count": 2,
      "outputs": [
        {
          "output_type": "stream",
          "name": "stdout",
          "text": [
            "Updated book list: ['Intro to Programming', 'Python Basics', 'Advanced Python', 'Data Science with Python', 'Machine Learning with Python']\n"
          ]
        }
      ]
    },
    {
      "cell_type": "code",
      "source": [
        "# 3. Loops and range()\n",
        "print(\"\\nAvailable books:\")\n",
        "for i in range(len(books)):\n",
        "    print(f\"{i}: {books[i]}\")"
      ],
      "metadata": {
        "colab": {
          "base_uri": "https://localhost:8080/",
          "height": 0
        },
        "id": "MUQRodlWYOmt",
        "outputId": "152b3ace-b8a9-42a9-a95c-13c5277db580"
      },
      "execution_count": 3,
      "outputs": [
        {
          "output_type": "stream",
          "name": "stdout",
          "text": [
            "\n",
            "Available books:\n",
            "0: Intro to Programming\n",
            "1: Python Basics\n",
            "2: Advanced Python\n",
            "3: Data Science with Python\n",
            "4: Machine Learning with Python\n"
          ]
        }
      ]
    },
    {
      "cell_type": "code",
      "source": [
        "# 4. User Input\n",
        "new_book = input(\"Enter a new book title: \")\n",
        "books.append(new_book)\n",
        "print(\"Updated book list:\", books)"
      ],
      "metadata": {
        "colab": {
          "base_uri": "https://localhost:8080/",
          "height": 0
        },
        "id": "md93lzkeYiEj",
        "outputId": "43098e56-68be-4194-f070-39f8432882a4"
      },
      "execution_count": 4,
      "outputs": [
        {
          "output_type": "stream",
          "name": "stdout",
          "text": [
            "Enter a new book title: Extract transfer load\n",
            "Updated book list: ['Intro to Programming', 'Python Basics', 'Advanced Python', 'Data Science with Python', 'Machine Learning with Python', 'Extract transfer load']\n"
          ]
        }
      ]
    },
    {
      "cell_type": "code",
      "source": [
        "# 5. Functions and Conditional Statements\n",
        "def check_availability(book_name):\n",
        "    # Check if the book is in the list\n",
        "    if book_name in books:\n",
        "        return True\n",
        "    else:\n",
        "        return False\n",
        "\n",
        "# Test the function\n",
        "print(f\"Is 'Python Basics' available? {check_availability('Python Basics')}\")"
      ],
      "metadata": {
        "colab": {
          "base_uri": "https://localhost:8080/",
          "height": 0
        },
        "id": "4lYawQJFZE5m",
        "outputId": "b487b416-f068-4b42-954a-3922cfdcff2b"
      },
      "execution_count": 5,
      "outputs": [
        {
          "output_type": "stream",
          "name": "stdout",
          "text": [
            "Is 'Python Basics' available? True\n"
          ]
        }
      ]
    },
    {
      "cell_type": "code",
      "source": [
        "\n",
        "# 6. File I/O\n",
        "def save_books_to_file(filename):\n",
        "    with open(filename, 'w') as f:\n",
        "        for book in books:\n",
        "            f.write(f\"{book}\\n\")\n",
        "\n",
        "# Implement a function to read books from a file\n",
        "def read_books_from_file(filename):\n",
        "    try:\n",
        "        with open(filename, 'r') as f:\n",
        "            return [line.strip() for line in f.readlines()]\n",
        "    except FileNotFoundError:\n",
        "        print(\"File not found.\")\n",
        "        return []\n",
        "\n",
        "# Test file I/O\n",
        "save_books_to_file(\"books.txt\")\n",
        "!cat books.txt  # Display file contents in Colab\n",
        "\n",
        "read_books = read_books_from_file(\"books.txt\")\n",
        "print(\"Books read from file:\", read_books)"
      ],
      "metadata": {
        "colab": {
          "base_uri": "https://localhost:8080/",
          "height": 0
        },
        "id": "YC4WBLj7ZKXa",
        "outputId": "bb87f076-90ea-43df-d950-53ff6d586b2b"
      },
      "execution_count": 6,
      "outputs": [
        {
          "output_type": "stream",
          "name": "stdout",
          "text": [
            "Intro to Programming\n",
            "Python Basics\n",
            "Advanced Python\n",
            "Data Science with Python\n",
            "Machine Learning with Python\n",
            "Extract transfer load\n",
            "Books read from file: ['Intro to Programming', 'Python Basics', 'Advanced Python', 'Data Science with Python', 'Machine Learning with Python', 'Extract transfer load']\n"
          ]
        }
      ]
    },
    {
      "cell_type": "code",
      "source": [
        "# 7. Pickle for serialization\n",
        "def save_books_pickle(filename):\n",
        "    with open(filename, 'wb') as f:\n",
        "        pickle.dump(books, f)\n",
        "\n",
        "# Implement a function to load books using pickle\n",
        "def load_books_pickle(filename):\n",
        "    try:\n",
        "        with open(filename, 'rb') as f:\n",
        "            return pickle.load(f)\n",
        "    except (FileNotFoundError, pickle.PickleError) as e:\n",
        "        print(\"Error loading pickle file:\", e)\n",
        "        return []\n",
        "\n",
        "# Test pickle functions\n",
        "save_books_pickle(\"books.pkl\")\n",
        "print(\"Books loaded from pickle:\", load_books_pickle(\"books.pkl\"))"
      ],
      "metadata": {
        "colab": {
          "base_uri": "https://localhost:8080/",
          "height": 0
        },
        "id": "lj4GH9YxZhAY",
        "outputId": "77c376a6-3a1e-4a10-8452-122adca8813c"
      },
      "execution_count": 8,
      "outputs": [
        {
          "output_type": "stream",
          "name": "stdout",
          "text": [
            "Books loaded from pickle: ['Intro to Programming', 'Python Basics', 'Advanced Python', 'Data Science with Python', 'Machine Learning with Python', 'Extract transfer load']\n"
          ]
        }
      ]
    },
    {
      "cell_type": "code",
      "source": [
        "# 8. SQLite Database Interaction\n",
        "def create_books_table():\n",
        "    conn = sqlite3.connect('library.db')\n",
        "    cursor = conn.cursor()\n",
        "    cursor.execute('''CREATE TABLE IF NOT EXISTS books\n",
        "                      (id INTEGER PRIMARY KEY, title TEXT, quantity INTEGER)''')\n",
        "    conn.commit()\n",
        "    conn.close()\n",
        "\n",
        "# Implement a function to add a book to the SQLite database\n",
        "def add_book_to_db(title, quantity):\n",
        "    try:\n",
        "        conn = sqlite3.connect('library.db')\n",
        "        cursor = conn.cursor()\n",
        "        cursor.execute(\"INSERT INTO books (title, quantity) VALUES (?, ?)\", (title, quantity))\n",
        "        conn.commit()\n",
        "        conn.close()\n",
        "        print(f\"Book '{title}' added to the database.\")\n",
        "    except sqlite3.Error as e:\n",
        "        print(\"Database error:\", e)\n",
        "\n",
        "# Test database functions\n",
        "create_books_table()\n",
        "add_book_to_db(\"Python for Beginners\", 10)"
      ],
      "metadata": {
        "colab": {
          "base_uri": "https://localhost:8080/",
          "height": 0
        },
        "id": "b0wVwETuaEuG",
        "outputId": "05c611fe-8232-4ef0-fe02-d6d07a220dcc"
      },
      "execution_count": 9,
      "outputs": [
        {
          "output_type": "stream",
          "name": "stdout",
          "text": [
            "Book 'Python for Beginners' added to the database.\n"
          ]
        }
      ]
    },
    {
      "cell_type": "code",
      "source": [
        "# 9. Web API Interaction (GitHub API)\n",
        "def get_python_repos():\n",
        "    url = \"https://api.github.com/search/repositories\"\n",
        "    params = {\"q\": \"language:python\", \"sort\": \"stars\", \"order\": \"desc\"}\n",
        "    response = requests.get(url, params=params)\n",
        "    data = response.json()\n",
        "    return [repo['name'] for repo in data['items'][:5]]\n",
        "\n",
        "# Test API function\n",
        "print(\"Top 5 Python repositories on GitHub:\", get_python_repos())\n",
        "\n",
        "print(\"\\nLibrary Management System operations completed.\")"
      ],
      "metadata": {
        "colab": {
          "base_uri": "https://localhost:8080/",
          "height": 0
        },
        "id": "6OTW6Zo5aaJ6",
        "outputId": "6d489924-1656-4508-81ca-d0d4d7ee801c"
      },
      "execution_count": 10,
      "outputs": [
        {
          "output_type": "stream",
          "name": "stdout",
          "text": [
            "Top 5 Python repositories on GitHub: ['free-programming-books', 'public-apis', 'system-design-primer', 'awesome-python', 'Python']\n",
            "\n",
            "Library Management System operations completed.\n"
          ]
        }
      ]
    }
  ]
}